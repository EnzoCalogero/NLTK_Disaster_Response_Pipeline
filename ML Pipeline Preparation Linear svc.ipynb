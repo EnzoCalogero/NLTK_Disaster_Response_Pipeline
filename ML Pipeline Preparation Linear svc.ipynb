{
 "cells": [
  {
   "cell_type": "markdown",
   "metadata": {},
   "source": [
    "# ML Pipeline Preparation\n",
    "Follow the instructions below to help you create your ML pipeline.\n",
    "### 1. Import libraries and load data from database.\n",
    "- Import Python libraries\n",
    "- Load dataset from database with [`read_sql_table`](https://pandas.pydata.org/pandas-docs/stable/generated/pandas.read_sql_table.html)\n",
    "- Define feature and target variables X and Y"
   ]
  },
  {
   "cell_type": "code",
   "execution_count": null,
   "metadata": {
    "collapsed": true
   },
   "outputs": [],
   "source": [
    "nltk.download()"
   ]
  },
  {
   "cell_type": "code",
   "execution_count": 1,
   "metadata": {},
   "outputs": [
    {
     "name": "stderr",
     "output_type": "stream",
     "text": [
      "/home/enzo/anaconda3/lib/python3.6/importlib/_bootstrap.py:219: RuntimeWarning: numpy.dtype size changed, may indicate binary incompatibility. Expected 96, got 88\n",
      "  return f(*args, **kwds)\n",
      "/home/enzo/anaconda3/lib/python3.6/importlib/_bootstrap.py:219: RuntimeWarning: numpy.dtype size changed, may indicate binary incompatibility. Expected 96, got 88\n",
      "  return f(*args, **kwds)\n",
      "/home/enzo/anaconda3/lib/python3.6/importlib/_bootstrap.py:219: RuntimeWarning: numpy.dtype size changed, may indicate binary incompatibility. Expected 96, got 88\n",
      "  return f(*args, **kwds)\n",
      "/home/enzo/anaconda3/lib/python3.6/importlib/_bootstrap.py:219: RuntimeWarning: numpy.dtype size changed, may indicate binary incompatibility. Expected 96, got 88\n",
      "  return f(*args, **kwds)\n"
     ]
    },
    {
     "name": "stdout",
     "output_type": "stream",
     "text": [
      "[nltk_data] Downloading package punkt to /home/enzo/nltk_data...\n",
      "[nltk_data]   Package punkt is already up-to-date!\n",
      "[nltk_data] Downloading package stopwords to /home/enzo/nltk_data...\n",
      "[nltk_data]   Package stopwords is already up-to-date!\n"
     ]
    },
    {
     "name": "stderr",
     "output_type": "stream",
     "text": [
      "/home/enzo/anaconda3/lib/python3.6/site-packages/sklearn/ensemble/weight_boosting.py:29: DeprecationWarning: numpy.core.umath_tests is an internal NumPy module and should not be imported. It will be removed in a future NumPy release.\n",
      "  from numpy.core.umath_tests import inner1d\n"
     ]
    }
   ],
   "source": [
    "# import libraries\n",
    "import pandas as pd\n",
    "import numpy as np\n",
    "from sqlalchemy import create_engine\n",
    "import re\n",
    "import pickle\n",
    "import nltk\n",
    "\n",
    "nltk.download('punkt')\n",
    "nltk.download('stopwords')\n",
    "\n",
    "from nltk.corpus import stopwords\n",
    "from nltk.tokenize import word_tokenize\n",
    "from nltk.stem.porter import PorterStemmer\n",
    "\n",
    "from sklearn.pipeline import Pipeline\n",
    "from sklearn.metrics import confusion_matrix\n",
    "from sklearn.metrics import classification_report\n",
    "from sklearn.feature_extraction.text import CountVectorizer, TfidfTransformer\n",
    "from sklearn.model_selection import train_test_split, GridSearchCV\n",
    "from sklearn.ensemble import RandomForestClassifier\n",
    "from sklearn.multioutput import MultiOutputClassifier\n",
    "from sklearn.metrics import accuracy_score, precision_score, recall_score, f1_score, make_scorer\n",
    "from sklearn.model_selection import GridSearchCV\n",
    "from sklearn.svm import SVC\n",
    "\n",
    "from sklearn.tree import DecisionTreeClassifier, ExtraTreeClassifier\n",
    "from sklearn.neighbors import KNeighborsClassifier,RadiusNeighborsClassifier\n",
    "from sklearn.naive_bayes import MultinomialNB\n",
    "from sklearn.svm import LinearSVC\n",
    "from sklearn.linear_model import LogisticRegression,LogisticRegressionCV\n"
   ]
  },
  {
   "cell_type": "code",
   "execution_count": 2,
   "metadata": {
    "collapsed": true
   },
   "outputs": [],
   "source": [
    "# load data from database\n",
    "engine = create_engine('sqlite:///disaster.db')\n",
    "df = pd.read_sql_table('InsertTableName', con=engine)\n",
    "\n",
    "relevant_categories = df.columns[4:]\n",
    "\n",
    "X = df['message']\n",
    "y = df[relevant_categories]"
   ]
  },
  {
   "cell_type": "code",
   "execution_count": 3,
   "metadata": {},
   "outputs": [
    {
     "data": {
      "text/html": [
       "<div>\n",
       "<style scoped>\n",
       "    .dataframe tbody tr th:only-of-type {\n",
       "        vertical-align: middle;\n",
       "    }\n",
       "\n",
       "    .dataframe tbody tr th {\n",
       "        vertical-align: top;\n",
       "    }\n",
       "\n",
       "    .dataframe thead th {\n",
       "        text-align: right;\n",
       "    }\n",
       "</style>\n",
       "<table border=\"1\" class=\"dataframe\">\n",
       "  <thead>\n",
       "    <tr style=\"text-align: right;\">\n",
       "      <th></th>\n",
       "      <th>id</th>\n",
       "      <th>message</th>\n",
       "      <th>original</th>\n",
       "      <th>genre</th>\n",
       "      <th>related</th>\n",
       "      <th>request</th>\n",
       "      <th>offer</th>\n",
       "      <th>aid_related</th>\n",
       "      <th>medical_help</th>\n",
       "      <th>medical_products</th>\n",
       "      <th>...</th>\n",
       "      <th>aid_centers</th>\n",
       "      <th>other_infrastructure</th>\n",
       "      <th>weather_related</th>\n",
       "      <th>floods</th>\n",
       "      <th>storm</th>\n",
       "      <th>fire</th>\n",
       "      <th>earthquake</th>\n",
       "      <th>cold</th>\n",
       "      <th>other_weather</th>\n",
       "      <th>direct_report</th>\n",
       "    </tr>\n",
       "  </thead>\n",
       "  <tbody>\n",
       "    <tr>\n",
       "      <th>0</th>\n",
       "      <td>2</td>\n",
       "      <td>Weather update - a cold front from Cuba that c...</td>\n",
       "      <td>Un front froid se retrouve sur Cuba ce matin. ...</td>\n",
       "      <td>direct</td>\n",
       "      <td>1</td>\n",
       "      <td>0</td>\n",
       "      <td>0</td>\n",
       "      <td>0</td>\n",
       "      <td>0</td>\n",
       "      <td>0</td>\n",
       "      <td>...</td>\n",
       "      <td>0</td>\n",
       "      <td>0</td>\n",
       "      <td>0</td>\n",
       "      <td>0</td>\n",
       "      <td>0</td>\n",
       "      <td>0</td>\n",
       "      <td>0</td>\n",
       "      <td>0</td>\n",
       "      <td>0</td>\n",
       "      <td>0</td>\n",
       "    </tr>\n",
       "    <tr>\n",
       "      <th>1</th>\n",
       "      <td>7</td>\n",
       "      <td>Is the Hurricane over or is it not over</td>\n",
       "      <td>Cyclone nan fini osinon li pa fini</td>\n",
       "      <td>direct</td>\n",
       "      <td>1</td>\n",
       "      <td>0</td>\n",
       "      <td>0</td>\n",
       "      <td>1</td>\n",
       "      <td>0</td>\n",
       "      <td>0</td>\n",
       "      <td>...</td>\n",
       "      <td>0</td>\n",
       "      <td>0</td>\n",
       "      <td>1</td>\n",
       "      <td>0</td>\n",
       "      <td>1</td>\n",
       "      <td>0</td>\n",
       "      <td>0</td>\n",
       "      <td>0</td>\n",
       "      <td>0</td>\n",
       "      <td>0</td>\n",
       "    </tr>\n",
       "    <tr>\n",
       "      <th>2</th>\n",
       "      <td>8</td>\n",
       "      <td>Looking for someone but no name</td>\n",
       "      <td>Patnm, di Maryani relem pou li banm nouvel li ...</td>\n",
       "      <td>direct</td>\n",
       "      <td>1</td>\n",
       "      <td>0</td>\n",
       "      <td>0</td>\n",
       "      <td>0</td>\n",
       "      <td>0</td>\n",
       "      <td>0</td>\n",
       "      <td>...</td>\n",
       "      <td>0</td>\n",
       "      <td>0</td>\n",
       "      <td>0</td>\n",
       "      <td>0</td>\n",
       "      <td>0</td>\n",
       "      <td>0</td>\n",
       "      <td>0</td>\n",
       "      <td>0</td>\n",
       "      <td>0</td>\n",
       "      <td>0</td>\n",
       "    </tr>\n",
       "    <tr>\n",
       "      <th>3</th>\n",
       "      <td>9</td>\n",
       "      <td>UN reports Leogane 80-90 destroyed. Only Hospi...</td>\n",
       "      <td>UN reports Leogane 80-90 destroyed. Only Hospi...</td>\n",
       "      <td>direct</td>\n",
       "      <td>1</td>\n",
       "      <td>1</td>\n",
       "      <td>0</td>\n",
       "      <td>1</td>\n",
       "      <td>0</td>\n",
       "      <td>1</td>\n",
       "      <td>...</td>\n",
       "      <td>0</td>\n",
       "      <td>0</td>\n",
       "      <td>0</td>\n",
       "      <td>0</td>\n",
       "      <td>0</td>\n",
       "      <td>0</td>\n",
       "      <td>0</td>\n",
       "      <td>0</td>\n",
       "      <td>0</td>\n",
       "      <td>0</td>\n",
       "    </tr>\n",
       "    <tr>\n",
       "      <th>4</th>\n",
       "      <td>12</td>\n",
       "      <td>says: west side of Haiti, rest of the country ...</td>\n",
       "      <td>facade ouest d Haiti et le reste du pays aujou...</td>\n",
       "      <td>direct</td>\n",
       "      <td>1</td>\n",
       "      <td>0</td>\n",
       "      <td>0</td>\n",
       "      <td>0</td>\n",
       "      <td>0</td>\n",
       "      <td>0</td>\n",
       "      <td>...</td>\n",
       "      <td>0</td>\n",
       "      <td>0</td>\n",
       "      <td>0</td>\n",
       "      <td>0</td>\n",
       "      <td>0</td>\n",
       "      <td>0</td>\n",
       "      <td>0</td>\n",
       "      <td>0</td>\n",
       "      <td>0</td>\n",
       "      <td>0</td>\n",
       "    </tr>\n",
       "  </tbody>\n",
       "</table>\n",
       "<p>5 rows × 39 columns</p>\n",
       "</div>"
      ],
      "text/plain": [
       "   id                                            message  \\\n",
       "0   2  Weather update - a cold front from Cuba that c...   \n",
       "1   7            Is the Hurricane over or is it not over   \n",
       "2   8                    Looking for someone but no name   \n",
       "3   9  UN reports Leogane 80-90 destroyed. Only Hospi...   \n",
       "4  12  says: west side of Haiti, rest of the country ...   \n",
       "\n",
       "                                            original   genre  related  \\\n",
       "0  Un front froid se retrouve sur Cuba ce matin. ...  direct        1   \n",
       "1                 Cyclone nan fini osinon li pa fini  direct        1   \n",
       "2  Patnm, di Maryani relem pou li banm nouvel li ...  direct        1   \n",
       "3  UN reports Leogane 80-90 destroyed. Only Hospi...  direct        1   \n",
       "4  facade ouest d Haiti et le reste du pays aujou...  direct        1   \n",
       "\n",
       "   request  offer  aid_related  medical_help  medical_products      ...        \\\n",
       "0        0      0            0             0                 0      ...         \n",
       "1        0      0            1             0                 0      ...         \n",
       "2        0      0            0             0                 0      ...         \n",
       "3        1      0            1             0                 1      ...         \n",
       "4        0      0            0             0                 0      ...         \n",
       "\n",
       "   aid_centers  other_infrastructure  weather_related  floods  storm  fire  \\\n",
       "0            0                     0                0       0      0     0   \n",
       "1            0                     0                1       0      1     0   \n",
       "2            0                     0                0       0      0     0   \n",
       "3            0                     0                0       0      0     0   \n",
       "4            0                     0                0       0      0     0   \n",
       "\n",
       "   earthquake  cold  other_weather  direct_report  \n",
       "0           0     0              0              0  \n",
       "1           0     0              0              0  \n",
       "2           0     0              0              0  \n",
       "3           0     0              0              0  \n",
       "4           0     0              0              0  \n",
       "\n",
       "[5 rows x 39 columns]"
      ]
     },
     "execution_count": 3,
     "metadata": {},
     "output_type": "execute_result"
    }
   ],
   "source": [
    "df.head()"
   ]
  },
  {
   "cell_type": "code",
   "execution_count": 4,
   "metadata": {},
   "outputs": [
    {
     "data": {
      "text/plain": [
       "0    Weather update - a cold front from Cuba that c...\n",
       "1              Is the Hurricane over or is it not over\n",
       "2                      Looking for someone but no name\n",
       "3    UN reports Leogane 80-90 destroyed. Only Hospi...\n",
       "4    says: west side of Haiti, rest of the country ...\n",
       "Name: message, dtype: object"
      ]
     },
     "execution_count": 4,
     "metadata": {},
     "output_type": "execute_result"
    }
   ],
   "source": [
    "X.head(5)"
   ]
  },
  {
   "cell_type": "code",
   "execution_count": 5,
   "metadata": {},
   "outputs": [
    {
     "data": {
      "text/html": [
       "<div>\n",
       "<style scoped>\n",
       "    .dataframe tbody tr th:only-of-type {\n",
       "        vertical-align: middle;\n",
       "    }\n",
       "\n",
       "    .dataframe tbody tr th {\n",
       "        vertical-align: top;\n",
       "    }\n",
       "\n",
       "    .dataframe thead th {\n",
       "        text-align: right;\n",
       "    }\n",
       "</style>\n",
       "<table border=\"1\" class=\"dataframe\">\n",
       "  <thead>\n",
       "    <tr style=\"text-align: right;\">\n",
       "      <th></th>\n",
       "      <th>related</th>\n",
       "      <th>request</th>\n",
       "      <th>offer</th>\n",
       "      <th>aid_related</th>\n",
       "      <th>medical_help</th>\n",
       "      <th>medical_products</th>\n",
       "      <th>search_and_rescue</th>\n",
       "      <th>security</th>\n",
       "      <th>military</th>\n",
       "      <th>water</th>\n",
       "      <th>...</th>\n",
       "      <th>aid_centers</th>\n",
       "      <th>other_infrastructure</th>\n",
       "      <th>weather_related</th>\n",
       "      <th>floods</th>\n",
       "      <th>storm</th>\n",
       "      <th>fire</th>\n",
       "      <th>earthquake</th>\n",
       "      <th>cold</th>\n",
       "      <th>other_weather</th>\n",
       "      <th>direct_report</th>\n",
       "    </tr>\n",
       "  </thead>\n",
       "  <tbody>\n",
       "    <tr>\n",
       "      <th>0</th>\n",
       "      <td>1</td>\n",
       "      <td>0</td>\n",
       "      <td>0</td>\n",
       "      <td>0</td>\n",
       "      <td>0</td>\n",
       "      <td>0</td>\n",
       "      <td>0</td>\n",
       "      <td>0</td>\n",
       "      <td>0</td>\n",
       "      <td>0</td>\n",
       "      <td>...</td>\n",
       "      <td>0</td>\n",
       "      <td>0</td>\n",
       "      <td>0</td>\n",
       "      <td>0</td>\n",
       "      <td>0</td>\n",
       "      <td>0</td>\n",
       "      <td>0</td>\n",
       "      <td>0</td>\n",
       "      <td>0</td>\n",
       "      <td>0</td>\n",
       "    </tr>\n",
       "    <tr>\n",
       "      <th>1</th>\n",
       "      <td>1</td>\n",
       "      <td>0</td>\n",
       "      <td>0</td>\n",
       "      <td>1</td>\n",
       "      <td>0</td>\n",
       "      <td>0</td>\n",
       "      <td>0</td>\n",
       "      <td>0</td>\n",
       "      <td>0</td>\n",
       "      <td>0</td>\n",
       "      <td>...</td>\n",
       "      <td>0</td>\n",
       "      <td>0</td>\n",
       "      <td>1</td>\n",
       "      <td>0</td>\n",
       "      <td>1</td>\n",
       "      <td>0</td>\n",
       "      <td>0</td>\n",
       "      <td>0</td>\n",
       "      <td>0</td>\n",
       "      <td>0</td>\n",
       "    </tr>\n",
       "    <tr>\n",
       "      <th>2</th>\n",
       "      <td>1</td>\n",
       "      <td>0</td>\n",
       "      <td>0</td>\n",
       "      <td>0</td>\n",
       "      <td>0</td>\n",
       "      <td>0</td>\n",
       "      <td>0</td>\n",
       "      <td>0</td>\n",
       "      <td>0</td>\n",
       "      <td>0</td>\n",
       "      <td>...</td>\n",
       "      <td>0</td>\n",
       "      <td>0</td>\n",
       "      <td>0</td>\n",
       "      <td>0</td>\n",
       "      <td>0</td>\n",
       "      <td>0</td>\n",
       "      <td>0</td>\n",
       "      <td>0</td>\n",
       "      <td>0</td>\n",
       "      <td>0</td>\n",
       "    </tr>\n",
       "    <tr>\n",
       "      <th>3</th>\n",
       "      <td>1</td>\n",
       "      <td>1</td>\n",
       "      <td>0</td>\n",
       "      <td>1</td>\n",
       "      <td>0</td>\n",
       "      <td>1</td>\n",
       "      <td>0</td>\n",
       "      <td>0</td>\n",
       "      <td>0</td>\n",
       "      <td>0</td>\n",
       "      <td>...</td>\n",
       "      <td>0</td>\n",
       "      <td>0</td>\n",
       "      <td>0</td>\n",
       "      <td>0</td>\n",
       "      <td>0</td>\n",
       "      <td>0</td>\n",
       "      <td>0</td>\n",
       "      <td>0</td>\n",
       "      <td>0</td>\n",
       "      <td>0</td>\n",
       "    </tr>\n",
       "    <tr>\n",
       "      <th>4</th>\n",
       "      <td>1</td>\n",
       "      <td>0</td>\n",
       "      <td>0</td>\n",
       "      <td>0</td>\n",
       "      <td>0</td>\n",
       "      <td>0</td>\n",
       "      <td>0</td>\n",
       "      <td>0</td>\n",
       "      <td>0</td>\n",
       "      <td>0</td>\n",
       "      <td>...</td>\n",
       "      <td>0</td>\n",
       "      <td>0</td>\n",
       "      <td>0</td>\n",
       "      <td>0</td>\n",
       "      <td>0</td>\n",
       "      <td>0</td>\n",
       "      <td>0</td>\n",
       "      <td>0</td>\n",
       "      <td>0</td>\n",
       "      <td>0</td>\n",
       "    </tr>\n",
       "  </tbody>\n",
       "</table>\n",
       "<p>5 rows × 35 columns</p>\n",
       "</div>"
      ],
      "text/plain": [
       "   related  request  offer  aid_related  medical_help  medical_products  \\\n",
       "0        1        0      0            0             0                 0   \n",
       "1        1        0      0            1             0                 0   \n",
       "2        1        0      0            0             0                 0   \n",
       "3        1        1      0            1             0                 1   \n",
       "4        1        0      0            0             0                 0   \n",
       "\n",
       "   search_and_rescue  security  military  water      ...        aid_centers  \\\n",
       "0                  0         0         0      0      ...                  0   \n",
       "1                  0         0         0      0      ...                  0   \n",
       "2                  0         0         0      0      ...                  0   \n",
       "3                  0         0         0      0      ...                  0   \n",
       "4                  0         0         0      0      ...                  0   \n",
       "\n",
       "   other_infrastructure  weather_related  floods  storm  fire  earthquake  \\\n",
       "0                     0                0       0      0     0           0   \n",
       "1                     0                1       0      1     0           0   \n",
       "2                     0                0       0      0     0           0   \n",
       "3                     0                0       0      0     0           0   \n",
       "4                     0                0       0      0     0           0   \n",
       "\n",
       "   cold  other_weather  direct_report  \n",
       "0     0              0              0  \n",
       "1     0              0              0  \n",
       "2     0              0              0  \n",
       "3     0              0              0  \n",
       "4     0              0              0  \n",
       "\n",
       "[5 rows x 35 columns]"
      ]
     },
     "execution_count": 5,
     "metadata": {},
     "output_type": "execute_result"
    }
   ],
   "source": [
    "y.head()"
   ]
  },
  {
   "cell_type": "markdown",
   "metadata": {},
   "source": [
    "### 2. Write a tokenization function to process your text data"
   ]
  },
  {
   "cell_type": "code",
   "execution_count": 6,
   "metadata": {},
   "outputs": [
    {
     "data": {
      "text/plain": [
       "['testing', 'tested', 'lovved', 'love', 'loving', 'warning', 'urlplaceholder']"
      ]
     },
     "execution_count": 6,
     "metadata": {},
     "output_type": "execute_result"
    }
   ],
   "source": [
    "def tokenize(text):\n",
    "    \n",
    "    # Replace any URL with  urlplaceholder\n",
    "    url_regex = 'http[s]?://(?:[a-zA-Z]|[0-9]|[$-_@.&+]|[!*\\(\\),]|(?:%[0-9a-fA-F][0-9a-fA-F]))+'\n",
    "    detected_urls = re.findall(url_regex, text)\n",
    "    for url in detected_urls:\n",
    "        text = text.replace(url, \"urlplaceholder\")\n",
    "    \n",
    "    # remove punctuation and Convert to lowercase\n",
    "    text = re.sub(r\"[^a-zA-Z0-9]\", \" \", text.lower())\n",
    "        \n",
    "    tokens = word_tokenize(text)\n",
    "    \n",
    "    # Remove stop-words\n",
    "    stop_words = stopwords.words(\"english\")\n",
    "    tokens = [token for token in tokens if token not in stop_words]\n",
    "    \n",
    "    # lemmitize\n",
    "    lemmatizer = nltk.WordNetLemmatizer()\n",
    "    clean_tokens = []\n",
    "    for tok in tokens:\n",
    "        clean_tok = lemmatizer.lemmatize(tok).strip()\n",
    "        clean_tokens.append(clean_tok)\n",
    "\n",
    "    return clean_tokens\n",
    "tokenize(\"testing: tested I do not doesn't lovVed loves loving you warnings .... http://www.hotmail.com\")"
   ]
  },
  {
   "cell_type": "markdown",
   "metadata": {},
   "source": [
    "### 3. Build a machine learning pipeline\n",
    "- You'll find the [MultiOutputClassifier](http://scikit-learn.org/stable/modules/generated/sklearn.multioutput.MultiOutputClassifier.html) helpful for predicting multiple target variables."
   ]
  },
  {
   "cell_type": "code",
   "execution_count": 8,
   "metadata": {},
   "outputs": [
    {
     "name": "stdout",
     "output_type": "stream",
     "text": [
      "                        precision    recall  f1-score   support\n",
      "\n",
      "               related       0.87      0.91      0.89      4961\n",
      "               request       0.75      0.61      0.67      1122\n",
      "                 offer       0.00      0.00      0.00        31\n",
      "           aid_related       0.73      0.71      0.72      2691\n",
      "          medical_help       0.59      0.29      0.39       537\n",
      "      medical_products       0.74      0.34      0.46       339\n",
      "     search_and_rescue       0.61      0.14      0.23       176\n",
      "              security       0.17      0.01      0.02       114\n",
      "              military       0.56      0.33      0.42       204\n",
      "                 water       0.69      0.67      0.68       386\n",
      "                  food       0.79      0.77      0.78       726\n",
      "               shelter       0.75      0.60      0.67       547\n",
      "              clothing       0.72      0.55      0.62        97\n",
      "                 money       0.57      0.27      0.36       160\n",
      "        missing_people       0.80      0.16      0.26        77\n",
      "              refugees       0.67      0.26      0.37       192\n",
      "                 death       0.73      0.53      0.61       277\n",
      "             other_aid       0.53      0.20      0.29       874\n",
      "infrastructure_related       0.47      0.05      0.09       421\n",
      "             transport       0.69      0.24      0.36       290\n",
      "             buildings       0.59      0.34      0.43       331\n",
      "           electricity       0.71      0.28      0.41       141\n",
      "                 tools       0.00      0.00      0.00        48\n",
      "             hospitals       0.83      0.06      0.12        77\n",
      "                 shops       0.00      0.00      0.00        29\n",
      "           aid_centers       0.33      0.01      0.03        76\n",
      "  other_infrastructure       0.47      0.03      0.06       272\n",
      "       weather_related       0.82      0.75      0.79      1824\n",
      "                floods       0.89      0.61      0.72       540\n",
      "                 storm       0.73      0.64      0.68       614\n",
      "                  fire       0.57      0.33      0.42        61\n",
      "            earthquake       0.90      0.80      0.84       624\n",
      "                  cold       0.75      0.36      0.49       136\n",
      "         other_weather       0.52      0.16      0.25       346\n",
      "         direct_report       0.69      0.52      0.59      1293\n",
      "\n",
      "           avg / total       0.74      0.62      0.65     20634\n",
      "\n"
     ]
    },
    {
     "name": "stderr",
     "output_type": "stream",
     "text": [
      "/home/enzo/anaconda3/lib/python3.6/site-packages/sklearn/metrics/classification.py:1135: UndefinedMetricWarning: Precision and F-score are ill-defined and being set to 0.0 in labels with no predicted samples.\n",
      "  'precision', 'predicted', average, warn_for)\n"
     ]
    }
   ],
   "source": [
    "pipeline = Pipeline([\n",
    "        ('vect', CountVectorizer(tokenizer=tokenize)),\n",
    "        ('tfidf', TfidfTransformer()),\n",
    "        ('clf', MultiOutputClassifier(LinearSVC(multi_class=\"crammer_singer\"), n_jobs=1))\n",
    "        #('clf', RandomForestClassifier())\n",
    "    ])\n",
    "def test_pipeline(pipeline):\n",
    "    X_train, X_test, y_train, y_test = train_test_split(X, y)\n",
    "    pipeline.fit(X_train, y_train)\n",
    "    y_test_pred = pipeline.predict(X_test)\n",
    "    print(classification_report(y_test, y_test_pred, target_names=relevant_categories))\n",
    "test_pipeline(pipeline)   "
   ]
  },
  {
   "cell_type": "markdown",
   "metadata": {},
   "source": [
    "### 4. Train pipeline\n",
    "- Split data into train and test sets\n",
    "- Train pipeline"
   ]
  },
  {
   "cell_type": "code",
   "execution_count": 8,
   "metadata": {},
   "outputs": [
    {
     "data": {
      "text/plain": [
       "Pipeline(memory=None,\n",
       "     steps=[('vect', CountVectorizer(analyzer='word', binary=False, decode_error='strict',\n",
       "        dtype=<class 'numpy.int64'>, encoding='utf-8', input='content',\n",
       "        lowercase=True, max_df=1.0, max_features=None, min_df=1,\n",
       "        ngram_range=(1, 1), preprocessor=None, stop_words=None,\n",
       "        strip...rammer_singer', penalty='l2', random_state=None,\n",
       "     tol=0.0001, verbose=0),\n",
       "           n_jobs=1))])"
      ]
     },
     "execution_count": 8,
     "metadata": {},
     "output_type": "execute_result"
    }
   ],
   "source": [
    "X_train, X_test, y_train, y_test = train_test_split(X, y)\n",
    "pipeline.fit(X_train, y_train)"
   ]
  },
  {
   "cell_type": "markdown",
   "metadata": {},
   "source": [
    "### 5. Test your model\n",
    "Report the f1 score, precision and recall for each output category of the dataset. You can do this by iterating through the columns and calling sklearn's `classification_report` on each."
   ]
  },
  {
   "cell_type": "markdown",
   "metadata": {},
   "source": [
    "#### Evaluation for the train set "
   ]
  },
  {
   "cell_type": "code",
   "execution_count": 9,
   "metadata": {},
   "outputs": [
    {
     "name": "stdout",
     "output_type": "stream",
     "text": [
      "                        precision    recall  f1-score   support\n",
      "\n",
      "               related       0.95      0.98      0.96     14928\n",
      "               request       0.92      0.77      0.84      3332\n",
      "                 offer       1.00      0.40      0.57        93\n",
      "           aid_related       0.91      0.89      0.90      8135\n",
      "          medical_help       0.92      0.63      0.75      1557\n",
      "      medical_products       0.95      0.65      0.77       972\n",
      "     search_and_rescue       0.98      0.52      0.68       547\n",
      "              security       1.00      0.44      0.61       372\n",
      "              military       0.97      0.88      0.92       654\n",
      "                 water       0.94      0.88      0.91      1237\n",
      "                  food       0.93      0.90      0.91      2186\n",
      "               shelter       0.94      0.81      0.87      1740\n",
      "              clothing       0.93      0.78      0.85       292\n",
      "                 money       0.98      0.72      0.83       445\n",
      "        missing_people       0.97      0.51      0.67       217\n",
      "              refugees       0.97      0.65      0.78       649\n",
      "                 death       0.96      0.80      0.87       898\n",
      "             other_aid       0.94      0.51      0.66      2607\n",
      "infrastructure_related       0.99      0.44      0.61      1292\n",
      "             transport       0.97      0.55      0.71       896\n",
      "             buildings       0.96      0.77      0.86      1000\n",
      "           electricity       0.98      0.77      0.86       398\n",
      "                 tools       1.00      0.58      0.74       125\n",
      "             hospitals       1.00      0.63      0.77       221\n",
      "                 shops       1.00      0.61      0.76        95\n",
      "           aid_centers       1.00      0.56      0.72       240\n",
      "  other_infrastructure       1.00      0.43      0.60       863\n",
      "       weather_related       0.95      0.88      0.91      5432\n",
      "                floods       0.97      0.75      0.84      1625\n",
      "                 storm       0.93      0.90      0.91      1840\n",
      "                  fire       0.99      0.69      0.81       207\n",
      "            earthquake       0.96      0.89      0.92      1862\n",
      "                  cold       0.98      0.78      0.87       378\n",
      "         other_weather       0.97      0.52      0.68      1041\n",
      "         direct_report       0.90      0.73      0.81      3795\n",
      "\n",
      "           avg / total       0.94      0.81      0.86     62171\n",
      "\n"
     ]
    }
   ],
   "source": [
    "y_train_pred = pipeline.predict(X_train)\n",
    "print(classification_report(y_train, y_train_pred, target_names=relevant_categories))"
   ]
  },
  {
   "cell_type": "markdown",
   "metadata": {},
   "source": [
    "#### Evaluation for the test set "
   ]
  },
  {
   "cell_type": "code",
   "execution_count": 10,
   "metadata": {},
   "outputs": [
    {
     "name": "stdout",
     "output_type": "stream",
     "text": [
      "                        precision    recall  f1-score   support\n",
      "\n",
      "               related       0.87      0.91      0.89      4978\n",
      "               request       0.77      0.59      0.66      1142\n",
      "                 offer       0.00      0.00      0.00        25\n",
      "           aid_related       0.73      0.71      0.72      2725\n",
      "          medical_help       0.60      0.31      0.41       527\n",
      "      medical_products       0.67      0.35      0.46       341\n",
      "     search_and_rescue       0.71      0.18      0.29       177\n",
      "              security       0.36      0.04      0.07        99\n",
      "              military       0.54      0.32      0.40       206\n",
      "                 water       0.71      0.64      0.67       435\n",
      "                  food       0.81      0.74      0.77       737\n",
      "               shelter       0.74      0.61      0.67       574\n",
      "              clothing       0.76      0.50      0.61       113\n",
      "                 money       0.66      0.27      0.38       159\n",
      "        missing_people       0.68      0.16      0.26        81\n",
      "              refugees       0.59      0.21      0.31       226\n",
      "                 death       0.74      0.48      0.58       296\n",
      "             other_aid       0.50      0.21      0.29       839\n",
      "infrastructure_related       0.47      0.06      0.10       413\n",
      "             transport       0.66      0.25      0.36       305\n",
      "             buildings       0.62      0.38      0.47       333\n",
      "           electricity       0.63      0.27      0.38       134\n",
      "                 tools       0.00      0.00      0.00        34\n",
      "             hospitals       0.33      0.05      0.08        62\n",
      "                 shops       0.00      0.00      0.00        25\n",
      "           aid_centers       0.33      0.01      0.03        69\n",
      "  other_infrastructure       0.44      0.03      0.05       288\n",
      "       weather_related       0.83      0.73      0.78      1865\n",
      "                floods       0.86      0.57      0.69       530\n",
      "                 storm       0.73      0.68      0.70       603\n",
      "                  fire       0.79      0.31      0.44        75\n",
      "            earthquake       0.87      0.83      0.85       593\n",
      "                  cold       0.71      0.36      0.48       152\n",
      "         other_weather       0.55      0.16      0.24       335\n",
      "         direct_report       0.68      0.51      0.58      1280\n",
      "\n",
      "           avg / total       0.74      0.61      0.65     20776\n",
      "\n"
     ]
    },
    {
     "name": "stderr",
     "output_type": "stream",
     "text": [
      "/home/enzo/anaconda3/lib/python3.6/site-packages/sklearn/metrics/classification.py:1135: UndefinedMetricWarning: Precision and F-score are ill-defined and being set to 0.0 in labels with no predicted samples.\n",
      "  'precision', 'predicted', average, warn_for)\n"
     ]
    }
   ],
   "source": [
    "y_test_pred = pipeline.predict(X_test)\n",
    "print(classification_report(y_test, y_test_pred, target_names=relevant_categories))"
   ]
  },
  {
   "cell_type": "code",
   "execution_count": 9,
   "metadata": {},
   "outputs": [
    {
     "name": "stdout",
     "output_type": "stream",
     "text": [
      "                        precision    recall  f1-score   support\n",
      "\n",
      "               related       0.84      0.94      0.89      4977\n",
      "               request       0.96      0.12      0.21      1122\n",
      "                 offer       0.00      0.00      0.00        30\n",
      "           aid_related       0.89      0.25      0.39      2759\n",
      "          medical_help       0.86      0.01      0.02       518\n",
      "      medical_products       0.50      0.00      0.01       310\n",
      "     search_and_rescue       1.00      0.01      0.01       182\n",
      "              security       0.00      0.00      0.00       128\n",
      "              military       0.00      0.00      0.00       226\n",
      "                 water       0.77      0.03      0.05       393\n",
      "                  food       0.90      0.09      0.16       738\n",
      "               shelter       0.94      0.06      0.11       556\n",
      "              clothing       1.00      0.04      0.08        94\n",
      "                 money       0.00      0.00      0.00       165\n",
      "        missing_people       0.00      0.00      0.00        83\n",
      "              refugees       1.00      0.01      0.03       224\n",
      "                 death       1.00      0.03      0.06       317\n",
      "             other_aid       1.00      0.00      0.00       841\n",
      "infrastructure_related       0.00      0.00      0.00       427\n",
      "             transport       1.00      0.02      0.04       309\n",
      "             buildings       1.00      0.01      0.02       333\n",
      "           electricity       0.86      0.04      0.08       144\n",
      "                 tools       0.00      0.00      0.00        51\n",
      "             hospitals       0.00      0.00      0.00        68\n",
      "                 shops       0.00      0.00      0.00        37\n",
      "           aid_centers       0.00      0.00      0.00        85\n",
      "  other_infrastructure       0.00      0.00      0.00       285\n",
      "       weather_related       0.91      0.27      0.42      1849\n",
      "                floods       0.89      0.09      0.16       530\n",
      "                 storm       0.81      0.08      0.15       630\n",
      "                  fire       0.00      0.00      0.00        65\n",
      "            earthquake       0.92      0.16      0.27       624\n",
      "                  cold       0.75      0.02      0.04       154\n",
      "         other_weather       0.00      0.00      0.00       342\n",
      "         direct_report       0.92      0.08      0.14      1282\n",
      "\n",
      "           avg / total       0.80      0.31      0.35     20878\n",
      "\n"
     ]
    },
    {
     "name": "stderr",
     "output_type": "stream",
     "text": [
      "/home/enzo/anaconda3/lib/python3.6/site-packages/sklearn/metrics/classification.py:1135: UndefinedMetricWarning: Precision and F-score are ill-defined and being set to 0.0 in labels with no predicted samples.\n",
      "  'precision', 'predicted', average, warn_for)\n"
     ]
    }
   ],
   "source": [
    "pipeline = Pipeline([\n",
    "        ('vect', CountVectorizer(tokenizer=tokenize)),\n",
    "        ('tfidf', TfidfTransformer()),\n",
    "        ('clf', MultiOutputClassifier(LogisticRegressionCV(multi_class=\"multinomial\"), n_jobs=1))\n",
    "        #('clf', RandomForestClassifier())\n",
    "    ])\n",
    "test_pipeline(pipeline) "
   ]
  },
  {
   "cell_type": "code",
   "execution_count": 12,
   "metadata": {},
   "outputs": [
    {
     "data": {
      "text/plain": [
       "Pipeline(memory=None,\n",
       "     steps=[('vect', CountVectorizer(analyzer='word', binary=False, decode_error='strict',\n",
       "        dtype=<class 'numpy.int64'>, encoding='utf-8', input='content',\n",
       "        lowercase=True, max_df=1.0, max_features=None, min_df=1,\n",
       "        ngram_range=(1, 1), preprocessor=None, stop_words=None,\n",
       "        strip... refit=True, scoring=None, solver='lbfgs',\n",
       "           tol=0.0001, verbose=0),\n",
       "           n_jobs=1))])"
      ]
     },
     "execution_count": 12,
     "metadata": {},
     "output_type": "execute_result"
    }
   ],
   "source": [
    "pipeline.fit(X_train, y_train)"
   ]
  },
  {
   "cell_type": "code",
   "execution_count": 13,
   "metadata": {},
   "outputs": [
    {
     "name": "stdout",
     "output_type": "stream",
     "text": [
      "                        precision    recall  f1-score   support\n",
      "\n",
      "               related       0.93      0.98      0.96     14928\n",
      "               request       0.97      0.12      0.22      3332\n",
      "                 offer       0.00      0.00      0.00        93\n",
      "           aid_related       0.94      0.27      0.42      8135\n",
      "          medical_help       1.00      0.01      0.02      1557\n",
      "      medical_products       0.88      0.01      0.01       972\n",
      "     search_and_rescue       1.00      0.01      0.01       547\n",
      "              security       0.00      0.00      0.00       372\n",
      "              military       1.00      0.01      0.02       654\n",
      "                 water       0.97      0.03      0.05      1237\n",
      "                  food       0.94      0.07      0.14      2186\n",
      "               shelter       0.98      0.05      0.10      1740\n",
      "              clothing       1.00      0.01      0.03       292\n",
      "                 money       0.00      0.00      0.00       445\n",
      "        missing_people       0.00      0.00      0.00       217\n",
      "              refugees       0.00      0.00      0.00       649\n",
      "                 death       1.00      0.02      0.04       898\n",
      "             other_aid       0.80      0.00      0.00      2607\n",
      "infrastructure_related       0.00      0.00      0.00      1292\n",
      "             transport       1.00      0.01      0.03       896\n",
      "             buildings       0.94      0.01      0.03      1000\n",
      "           electricity       1.00      0.01      0.02       398\n",
      "                 tools       0.00      0.00      0.00       125\n",
      "             hospitals       0.00      0.00      0.00       221\n",
      "                 shops       0.00      0.00      0.00        95\n",
      "           aid_centers       0.00      0.00      0.00       240\n",
      "  other_infrastructure       0.00      0.00      0.00       863\n",
      "       weather_related       0.98      0.27      0.43      5432\n",
      "                floods       1.00      0.09      0.16      1625\n",
      "                 storm       0.95      0.06      0.12      1840\n",
      "                  fire       0.00      0.00      0.00       207\n",
      "            earthquake       0.97      0.15      0.26      1862\n",
      "                  cold       1.00      0.03      0.07       378\n",
      "         other_weather       1.00      0.00      0.00      1041\n",
      "         direct_report       0.96      0.09      0.16      3795\n",
      "\n",
      "           avg / total       0.88      0.32      0.37     62171\n",
      "\n"
     ]
    },
    {
     "name": "stderr",
     "output_type": "stream",
     "text": [
      "/home/enzo/anaconda3/lib/python3.6/site-packages/sklearn/metrics/classification.py:1135: UndefinedMetricWarning: Precision and F-score are ill-defined and being set to 0.0 in labels with no predicted samples.\n",
      "  'precision', 'predicted', average, warn_for)\n"
     ]
    }
   ],
   "source": [
    "y_train_pred = pipeline.predict(X_train)\n",
    "print(classification_report(y_train, y_train_pred, target_names=relevant_categories))"
   ]
  },
  {
   "cell_type": "code",
   "execution_count": 14,
   "metadata": {},
   "outputs": [
    {
     "name": "stdout",
     "output_type": "stream",
     "text": [
      "                        precision    recall  f1-score   support\n",
      "\n",
      "               related       0.85      0.94      0.89      4978\n",
      "               request       0.90      0.15      0.26      1142\n",
      "                 offer       0.00      0.00      0.00        25\n",
      "           aid_related       0.87      0.27      0.41      2725\n",
      "          medical_help       0.62      0.01      0.02       527\n",
      "      medical_products       0.67      0.01      0.01       341\n",
      "     search_and_rescue       0.00      0.00      0.00       177\n",
      "              security       0.00      0.00      0.00        99\n",
      "              military       1.00      0.02      0.05       206\n",
      "                 water       0.68      0.03      0.07       435\n",
      "                  food       0.85      0.08      0.14       737\n",
      "               shelter       0.83      0.07      0.14       574\n",
      "              clothing       0.00      0.00      0.00       113\n",
      "                 money       0.00      0.00      0.00       159\n",
      "        missing_people       0.00      0.00      0.00        81\n",
      "              refugees       1.00      0.00      0.01       226\n",
      "                 death       1.00      0.02      0.03       296\n",
      "             other_aid       0.00      0.00      0.00       839\n",
      "infrastructure_related       0.00      0.00      0.00       413\n",
      "             transport       1.00      0.01      0.02       305\n",
      "             buildings       1.00      0.02      0.03       333\n",
      "           electricity       1.00      0.01      0.03       134\n",
      "                 tools       0.00      0.00      0.00        34\n",
      "             hospitals       0.00      0.00      0.00        62\n",
      "                 shops       0.00      0.00      0.00        25\n",
      "           aid_centers       0.00      0.00      0.00        69\n",
      "  other_infrastructure       0.00      0.00      0.00       288\n",
      "       weather_related       0.90      0.30      0.45      1865\n",
      "                floods       0.94      0.09      0.17       530\n",
      "                 storm       0.80      0.07      0.13       603\n",
      "                  fire       0.00      0.00      0.00        75\n",
      "            earthquake       0.88      0.22      0.36       593\n",
      "                  cold       0.00      0.00      0.00       152\n",
      "         other_weather       0.00      0.00      0.00       335\n",
      "         direct_report       0.88      0.11      0.19      1280\n",
      "\n",
      "           avg / total       0.74      0.32      0.36     20776\n",
      "\n"
     ]
    },
    {
     "name": "stderr",
     "output_type": "stream",
     "text": [
      "/home/enzo/anaconda3/lib/python3.6/site-packages/sklearn/metrics/classification.py:1135: UndefinedMetricWarning: Precision and F-score are ill-defined and being set to 0.0 in labels with no predicted samples.\n",
      "  'precision', 'predicted', average, warn_for)\n"
     ]
    }
   ],
   "source": [
    "y_test_pred = pipeline.predict(X_test)\n",
    "print(classification_report(y_test, y_test_pred, target_names=relevant_categories))"
   ]
  },
  {
   "cell_type": "code",
   "execution_count": 24,
   "metadata": {
    "collapsed": true
   },
   "outputs": [],
   "source": [
    "from sklearn.naive_bayes import GaussianNB, MultinomialNB\n",
    "pipeline = Pipeline([\n",
    "        ('vect', CountVectorizer(tokenizer=tokenize)),\n",
    "        ('tfidf', TfidfTransformer()),\n",
    "        ('clf', MultiOutputClassifier(MultinomialNB()))\n",
    "        #('clf', RandomForestClassifier())\n",
    "    ])\n"
   ]
  },
  {
   "cell_type": "code",
   "execution_count": 25,
   "metadata": {},
   "outputs": [
    {
     "data": {
      "text/plain": [
       "Pipeline(memory=None,\n",
       "     steps=[('vect', CountVectorizer(analyzer='word', binary=False, decode_error='strict',\n",
       "        dtype=<class 'numpy.int64'>, encoding='utf-8', input='content',\n",
       "        lowercase=True, max_df=1.0, max_features=None, min_df=1,\n",
       "        ngram_range=(1, 1), preprocessor=None, stop_words=None,\n",
       "        strip...ssifier(estimator=MultinomialNB(alpha=1.0, class_prior=None, fit_prior=True),\n",
       "           n_jobs=1))])"
      ]
     },
     "execution_count": 25,
     "metadata": {},
     "output_type": "execute_result"
    }
   ],
   "source": [
    "pipeline.fit(X_train, y_train)"
   ]
  },
  {
   "cell_type": "code",
   "execution_count": 26,
   "metadata": {},
   "outputs": [
    {
     "name": "stdout",
     "output_type": "stream",
     "text": [
      "                        precision    recall  f1-score   support\n",
      "\n",
      "               related       0.80      0.99      0.89     14928\n",
      "               request       0.91      0.30      0.45      3332\n",
      "                 offer       0.00      0.00      0.00        93\n",
      "           aid_related       0.86      0.74      0.80      8135\n",
      "          medical_help       0.63      0.01      0.02      1557\n",
      "      medical_products       0.33      0.00      0.01       972\n",
      "     search_and_rescue       0.00      0.00      0.00       547\n",
      "              security       0.00      0.00      0.00       372\n",
      "              military       0.40      0.00      0.01       654\n",
      "                 water       0.14      0.00      0.00      1237\n",
      "                  food       0.83      0.05      0.10      2186\n",
      "               shelter       0.68      0.01      0.03      1740\n",
      "              clothing       0.00      0.00      0.00       292\n",
      "                 money       0.00      0.00      0.00       445\n",
      "        missing_people       0.00      0.00      0.00       217\n",
      "              refugees       0.00      0.00      0.00       649\n",
      "                 death       0.00      0.00      0.00       898\n",
      "             other_aid       0.27      0.00      0.00      2607\n",
      "infrastructure_related       0.00      0.00      0.00      1292\n",
      "             transport       0.12      0.00      0.00       896\n",
      "             buildings       0.00      0.00      0.00      1000\n",
      "           electricity       0.00      0.00      0.00       398\n",
      "                 tools       0.00      0.00      0.00       125\n",
      "             hospitals       0.00      0.00      0.00       221\n",
      "                 shops       0.00      0.00      0.00        95\n",
      "           aid_centers       0.00      0.00      0.00       240\n",
      "  other_infrastructure       0.00      0.00      0.00       863\n",
      "       weather_related       0.92      0.53      0.67      5432\n",
      "                floods       0.81      0.03      0.05      1625\n",
      "                 storm       0.91      0.06      0.12      1840\n",
      "                  fire       0.00      0.00      0.00       207\n",
      "            earthquake       0.93      0.18      0.31      1862\n",
      "                  cold       0.00      0.00      0.00       378\n",
      "         other_weather       0.25      0.00      0.00      1041\n",
      "         direct_report       0.89      0.26      0.40      3795\n",
      "\n",
      "           avg / total       0.66      0.42      0.44     62171\n",
      "\n"
     ]
    }
   ],
   "source": [
    "y_train_pred = pipeline.predict(X_train)\n",
    "print(classification_report(y_train, y_train_pred, target_names=relevant_categories))\n"
   ]
  },
  {
   "cell_type": "code",
   "execution_count": 27,
   "metadata": {},
   "outputs": [
    {
     "name": "stdout",
     "output_type": "stream",
     "text": [
      "                        precision    recall  f1-score   support\n",
      "\n",
      "               related       0.78      0.99      0.87      4978\n",
      "               request       0.84      0.21      0.34      1142\n",
      "                 offer       0.00      0.00      0.00        25\n",
      "           aid_related       0.74      0.65      0.69      2725\n",
      "          medical_help       0.00      0.00      0.00       527\n",
      "      medical_products       0.00      0.00      0.00       341\n",
      "     search_and_rescue       0.00      0.00      0.00       177\n",
      "              security       0.00      0.00      0.00        99\n",
      "              military       0.00      0.00      0.00       206\n",
      "                 water       0.00      0.00      0.00       435\n",
      "                  food       0.78      0.02      0.05       737\n",
      "               shelter       0.50      0.00      0.00       574\n",
      "              clothing       0.00      0.00      0.00       113\n",
      "                 money       0.00      0.00      0.00       159\n",
      "        missing_people       0.00      0.00      0.00        81\n",
      "              refugees       0.00      0.00      0.00       226\n",
      "                 death       0.00      0.00      0.00       296\n",
      "             other_aid       0.00      0.00      0.00       839\n",
      "infrastructure_related       0.00      0.00      0.00       413\n",
      "             transport       0.00      0.00      0.00       305\n",
      "             buildings       0.00      0.00      0.00       333\n",
      "           electricity       0.00      0.00      0.00       134\n",
      "                 tools       0.00      0.00      0.00        34\n",
      "             hospitals       0.00      0.00      0.00        62\n",
      "                 shops       0.00      0.00      0.00        25\n",
      "           aid_centers       0.00      0.00      0.00        69\n",
      "  other_infrastructure       0.00      0.00      0.00       288\n",
      "       weather_related       0.86      0.42      0.56      1865\n",
      "                floods       0.50      0.00      0.01       530\n",
      "                 storm       0.71      0.01      0.02       603\n",
      "                  fire       0.00      0.00      0.00        75\n",
      "            earthquake       0.83      0.14      0.24       593\n",
      "                  cold       0.00      0.00      0.00       152\n",
      "         other_weather       0.00      0.00      0.00       335\n",
      "         direct_report       0.77      0.15      0.25      1280\n",
      "\n",
      "           avg / total       0.55      0.39      0.39     20776\n",
      "\n"
     ]
    },
    {
     "name": "stderr",
     "output_type": "stream",
     "text": [
      "/home/enzo/anaconda3/lib/python3.6/site-packages/sklearn/metrics/classification.py:1135: UndefinedMetricWarning: Precision and F-score are ill-defined and being set to 0.0 in labels with no predicted samples.\n",
      "  'precision', 'predicted', average, warn_for)\n"
     ]
    }
   ],
   "source": [
    "y_test_pred = pipeline.predict(X_test)\n",
    "print(classification_report(y_test, y_test_pred, target_names=relevant_categories))"
   ]
  },
  {
   "cell_type": "markdown",
   "metadata": {},
   "source": [
    "### 6. Improve your model\n",
    "Use grid search to find better parameters. "
   ]
  },
  {
   "cell_type": "code",
   "execution_count": null,
   "metadata": {
    "collapsed": true
   },
   "outputs": [],
   "source": [
    "parameters = {'vect__min_df': [1, 5, 10],\n",
    "              'tfidf__use_idf':[True, False],\n",
    "              'clf__estimator__n_estimators':[10, 25, 50], \n",
    "              'clf__estimator__min_samples_split':[2, 5, 10, 20, 40]}\n",
    "\n",
    "cv = GridSearchCV(pipeline, param_grid = parameters, scoring = 'f1_weighted', verbose = 1, cv=3)"
   ]
  },
  {
   "cell_type": "code",
   "execution_count": null,
   "metadata": {
    "collapsed": true
   },
   "outputs": [],
   "source": [
    "cv.fit(X_train, y_train)"
   ]
  },
  {
   "cell_type": "code",
   "execution_count": null,
   "metadata": {
    "collapsed": true
   },
   "outputs": [],
   "source": [
    "cv.best_params_"
   ]
  },
  {
   "cell_type": "code",
   "execution_count": null,
   "metadata": {
    "collapsed": true
   },
   "outputs": [],
   "source": []
  },
  {
   "cell_type": "markdown",
   "metadata": {},
   "source": [
    "### 7. Test your model\n",
    "Show the accuracy, precision, and recall of the tuned model.  \n",
    "\n",
    "Since this project focuses on code quality, process, and  pipelines, there is no minimum performance metric needed to pass. However, make sure to fine tune your models for accuracy, precision and recall to make your project stand out - especially for your portfolio!"
   ]
  },
  {
   "cell_type": "code",
   "execution_count": null,
   "metadata": {
    "collapsed": true
   },
   "outputs": [],
   "source": [
    "best_model_predict=cv.predict(X_test)"
   ]
  },
  {
   "cell_type": "code",
   "execution_count": null,
   "metadata": {
    "collapsed": true
   },
   "outputs": [],
   "source": [
    "print(classification_report(y_test, best_model_predict, target_names=relevant_categories))"
   ]
  },
  {
   "cell_type": "code",
   "execution_count": null,
   "metadata": {
    "collapsed": true
   },
   "outputs": [],
   "source": [
    "model_filepath = \"andomForestClassifier.p\"\n",
    "print('Saving model...\\n    MODEL: {}'.format(model_filepath))\n",
    "save_model(cv, model_filepath)\n",
    "\n",
    "print('Trained model saved!')"
   ]
  },
  {
   "cell_type": "markdown",
   "metadata": {},
   "source": [
    "### 8. Try improving your model further. Here are a few ideas:\n",
    "* try other machine learning algorithms\n",
    "* add other features besides the TF-IDF"
   ]
  },
  {
   "cell_type": "code",
   "execution_count": null,
   "metadata": {
    "collapsed": true
   },
   "outputs": [],
   "source": []
  },
  {
   "cell_type": "markdown",
   "metadata": {},
   "source": [
    "### 9. Export your model as a pickle file"
   ]
  },
  {
   "cell_type": "code",
   "execution_count": null,
   "metadata": {
    "collapsed": true
   },
   "outputs": [],
   "source": []
  },
  {
   "cell_type": "markdown",
   "metadata": {},
   "source": [
    "### 10. Use this notebook to complete `train.py`\n",
    "Use the template file attached in the Resources folder to write a script that runs the steps above to create a database and export a model based on a new dataset specified by the user."
   ]
  },
  {
   "cell_type": "code",
   "execution_count": null,
   "metadata": {
    "collapsed": true
   },
   "outputs": [],
   "source": []
  }
 ],
 "metadata": {
  "kernelspec": {
   "display_name": "Python 3",
   "language": "python",
   "name": "python3"
  },
  "language_info": {
   "codemirror_mode": {
    "name": "ipython",
    "version": 3
   },
   "file_extension": ".py",
   "mimetype": "text/x-python",
   "name": "python",
   "nbconvert_exporter": "python",
   "pygments_lexer": "ipython3",
   "version": "3.6.3"
  }
 },
 "nbformat": 4,
 "nbformat_minor": 2
}
